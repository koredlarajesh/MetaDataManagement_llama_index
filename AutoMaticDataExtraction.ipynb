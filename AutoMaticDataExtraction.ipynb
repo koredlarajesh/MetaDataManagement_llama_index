{
  "nbformat": 4,
  "nbformat_minor": 0,
  "metadata": {
    "colab": {
      "provenance": [],
      "gpuType": "T4"
    },
    "kernelspec": {
      "name": "python3",
      "display_name": "Python 3"
    },
    "language_info": {
      "name": "python"
    },
    "accelerator": "GPU"
  },
  "cells": [
    {
      "cell_type": "markdown",
      "source": [
        "# Automatic MetaData Extraction"
      ],
      "metadata": {
        "id": "q0WN17IB2cpl"
      }
    },
    {
      "cell_type": "code",
      "execution_count": 1,
      "metadata": {
        "colab": {
          "base_uri": "https://localhost:8080/"
        },
        "id": "olsc6Pjro0yx",
        "outputId": "a930ecbc-e612-45f6-f38c-d6bc685fd481"
      },
      "outputs": [
        {
          "output_type": "stream",
          "name": "stdout",
          "text": [
            "Collecting llama_index\n",
            "  Downloading llama_index-0.9.39-py3-none-any.whl (15.9 MB)\n",
            "\u001b[2K     \u001b[90m━━━━━━━━━━━━━━━━━━━━━━━━━━━━━━━━━━━━━━━━\u001b[0m \u001b[32m15.9/15.9 MB\u001b[0m \u001b[31m45.2 MB/s\u001b[0m eta \u001b[36m0:00:00\u001b[0m\n",
            "\u001b[?25hRequirement already satisfied: SQLAlchemy[asyncio]>=1.4.49 in /usr/local/lib/python3.10/dist-packages (from llama_index) (2.0.24)\n",
            "Requirement already satisfied: aiohttp<4.0.0,>=3.8.6 in /usr/local/lib/python3.10/dist-packages (from llama_index) (3.9.1)\n",
            "Collecting dataclasses-json (from llama_index)\n",
            "  Downloading dataclasses_json-0.6.3-py3-none-any.whl (28 kB)\n",
            "Collecting deprecated>=1.2.9.3 (from llama_index)\n",
            "  Downloading Deprecated-1.2.14-py2.py3-none-any.whl (9.6 kB)\n",
            "Requirement already satisfied: fsspec>=2023.5.0 in /usr/local/lib/python3.10/dist-packages (from llama_index) (2023.6.0)\n",
            "Collecting httpx (from llama_index)\n",
            "  Downloading httpx-0.26.0-py3-none-any.whl (75 kB)\n",
            "\u001b[2K     \u001b[90m━━━━━━━━━━━━━━━━━━━━━━━━━━━━━━━━━━━━━━━━\u001b[0m \u001b[32m75.9/75.9 kB\u001b[0m \u001b[31m7.9 MB/s\u001b[0m eta \u001b[36m0:00:00\u001b[0m\n",
            "\u001b[?25hRequirement already satisfied: nest-asyncio<2.0.0,>=1.5.8 in /usr/local/lib/python3.10/dist-packages (from llama_index) (1.6.0)\n",
            "Requirement already satisfied: networkx>=3.0 in /usr/local/lib/python3.10/dist-packages (from llama_index) (3.2.1)\n",
            "Requirement already satisfied: nltk<4.0.0,>=3.8.1 in /usr/local/lib/python3.10/dist-packages (from llama_index) (3.8.1)\n",
            "Requirement already satisfied: numpy in /usr/local/lib/python3.10/dist-packages (from llama_index) (1.23.5)\n",
            "Collecting openai>=1.1.0 (from llama_index)\n",
            "  Downloading openai-1.10.0-py3-none-any.whl (225 kB)\n",
            "\u001b[2K     \u001b[90m━━━━━━━━━━━━━━━━━━━━━━━━━━━━━━━━━━━━━━━━\u001b[0m \u001b[32m225.1/225.1 kB\u001b[0m \u001b[31m14.4 MB/s\u001b[0m eta \u001b[36m0:00:00\u001b[0m\n",
            "\u001b[?25hRequirement already satisfied: pandas in /usr/local/lib/python3.10/dist-packages (from llama_index) (1.5.3)\n",
            "Requirement already satisfied: requests>=2.31.0 in /usr/local/lib/python3.10/dist-packages (from llama_index) (2.31.0)\n",
            "Requirement already satisfied: tenacity<9.0.0,>=8.2.0 in /usr/local/lib/python3.10/dist-packages (from llama_index) (8.2.3)\n",
            "Collecting tiktoken>=0.3.3 (from llama_index)\n",
            "  Downloading tiktoken-0.5.2-cp310-cp310-manylinux_2_17_x86_64.manylinux2014_x86_64.whl (2.0 MB)\n",
            "\u001b[2K     \u001b[90m━━━━━━━━━━━━━━━━━━━━━━━━━━━━━━━━━━━━━━━━\u001b[0m \u001b[32m2.0/2.0 MB\u001b[0m \u001b[31m39.7 MB/s\u001b[0m eta \u001b[36m0:00:00\u001b[0m\n",
            "\u001b[?25hRequirement already satisfied: typing-extensions>=4.5.0 in /usr/local/lib/python3.10/dist-packages (from llama_index) (4.5.0)\n",
            "Collecting typing-inspect>=0.8.0 (from llama_index)\n",
            "  Downloading typing_inspect-0.9.0-py3-none-any.whl (8.8 kB)\n",
            "Requirement already satisfied: attrs>=17.3.0 in /usr/local/lib/python3.10/dist-packages (from aiohttp<4.0.0,>=3.8.6->llama_index) (23.2.0)\n",
            "Requirement already satisfied: multidict<7.0,>=4.5 in /usr/local/lib/python3.10/dist-packages (from aiohttp<4.0.0,>=3.8.6->llama_index) (6.0.4)\n",
            "Requirement already satisfied: yarl<2.0,>=1.0 in /usr/local/lib/python3.10/dist-packages (from aiohttp<4.0.0,>=3.8.6->llama_index) (1.9.4)\n",
            "Requirement already satisfied: frozenlist>=1.1.1 in /usr/local/lib/python3.10/dist-packages (from aiohttp<4.0.0,>=3.8.6->llama_index) (1.4.1)\n",
            "Requirement already satisfied: aiosignal>=1.1.2 in /usr/local/lib/python3.10/dist-packages (from aiohttp<4.0.0,>=3.8.6->llama_index) (1.3.1)\n",
            "Requirement already satisfied: async-timeout<5.0,>=4.0 in /usr/local/lib/python3.10/dist-packages (from aiohttp<4.0.0,>=3.8.6->llama_index) (4.0.3)\n",
            "Requirement already satisfied: wrapt<2,>=1.10 in /usr/local/lib/python3.10/dist-packages (from deprecated>=1.2.9.3->llama_index) (1.14.1)\n",
            "Requirement already satisfied: click in /usr/local/lib/python3.10/dist-packages (from nltk<4.0.0,>=3.8.1->llama_index) (8.1.7)\n",
            "Requirement already satisfied: joblib in /usr/local/lib/python3.10/dist-packages (from nltk<4.0.0,>=3.8.1->llama_index) (1.3.2)\n",
            "Requirement already satisfied: regex>=2021.8.3 in /usr/local/lib/python3.10/dist-packages (from nltk<4.0.0,>=3.8.1->llama_index) (2023.6.3)\n",
            "Requirement already satisfied: tqdm in /usr/local/lib/python3.10/dist-packages (from nltk<4.0.0,>=3.8.1->llama_index) (4.66.1)\n",
            "Requirement already satisfied: anyio<5,>=3.5.0 in /usr/local/lib/python3.10/dist-packages (from openai>=1.1.0->llama_index) (3.7.1)\n",
            "Requirement already satisfied: distro<2,>=1.7.0 in /usr/lib/python3/dist-packages (from openai>=1.1.0->llama_index) (1.7.0)\n",
            "Requirement already satisfied: pydantic<3,>=1.9.0 in /usr/local/lib/python3.10/dist-packages (from openai>=1.1.0->llama_index) (1.10.14)\n",
            "Requirement already satisfied: sniffio in /usr/local/lib/python3.10/dist-packages (from openai>=1.1.0->llama_index) (1.3.0)\n",
            "Collecting typing-extensions>=4.5.0 (from llama_index)\n",
            "  Downloading typing_extensions-4.9.0-py3-none-any.whl (32 kB)\n",
            "Requirement already satisfied: certifi in /usr/local/lib/python3.10/dist-packages (from httpx->llama_index) (2023.11.17)\n",
            "Collecting httpcore==1.* (from httpx->llama_index)\n",
            "  Downloading httpcore-1.0.2-py3-none-any.whl (76 kB)\n",
            "\u001b[2K     \u001b[90m━━━━━━━━━━━━━━━━━━━━━━━━━━━━━━━━━━━━━━━━\u001b[0m \u001b[32m76.9/76.9 kB\u001b[0m \u001b[31m7.9 MB/s\u001b[0m eta \u001b[36m0:00:00\u001b[0m\n",
            "\u001b[?25hRequirement already satisfied: idna in /usr/local/lib/python3.10/dist-packages (from httpx->llama_index) (3.6)\n",
            "Collecting h11<0.15,>=0.13 (from httpcore==1.*->httpx->llama_index)\n",
            "  Downloading h11-0.14.0-py3-none-any.whl (58 kB)\n",
            "\u001b[2K     \u001b[90m━━━━━━━━━━━━━━━━━━━━━━━━━━━━━━━━━━━━━━━━\u001b[0m \u001b[32m58.3/58.3 kB\u001b[0m \u001b[31m7.0 MB/s\u001b[0m eta \u001b[36m0:00:00\u001b[0m\n",
            "\u001b[?25hRequirement already satisfied: charset-normalizer<4,>=2 in /usr/local/lib/python3.10/dist-packages (from requests>=2.31.0->llama_index) (3.3.2)\n",
            "Requirement already satisfied: urllib3<3,>=1.21.1 in /usr/local/lib/python3.10/dist-packages (from requests>=2.31.0->llama_index) (2.0.7)\n",
            "Requirement already satisfied: greenlet!=0.4.17 in /usr/local/lib/python3.10/dist-packages (from SQLAlchemy[asyncio]>=1.4.49->llama_index) (3.0.3)\n",
            "Collecting mypy-extensions>=0.3.0 (from typing-inspect>=0.8.0->llama_index)\n",
            "  Downloading mypy_extensions-1.0.0-py3-none-any.whl (4.7 kB)\n",
            "Collecting marshmallow<4.0.0,>=3.18.0 (from dataclasses-json->llama_index)\n",
            "  Downloading marshmallow-3.20.2-py3-none-any.whl (49 kB)\n",
            "\u001b[2K     \u001b[90m━━━━━━━━━━━━━━━━━━━━━━━━━━━━━━━━━━━━━━━━\u001b[0m \u001b[32m49.4/49.4 kB\u001b[0m \u001b[31m4.4 MB/s\u001b[0m eta \u001b[36m0:00:00\u001b[0m\n",
            "\u001b[?25hRequirement already satisfied: python-dateutil>=2.8.1 in /usr/local/lib/python3.10/dist-packages (from pandas->llama_index) (2.8.2)\n",
            "Requirement already satisfied: pytz>=2020.1 in /usr/local/lib/python3.10/dist-packages (from pandas->llama_index) (2023.3.post1)\n",
            "Requirement already satisfied: exceptiongroup in /usr/local/lib/python3.10/dist-packages (from anyio<5,>=3.5.0->openai>=1.1.0->llama_index) (1.2.0)\n",
            "Requirement already satisfied: packaging>=17.0 in /usr/local/lib/python3.10/dist-packages (from marshmallow<4.0.0,>=3.18.0->dataclasses-json->llama_index) (23.2)\n",
            "Requirement already satisfied: six>=1.5 in /usr/local/lib/python3.10/dist-packages (from python-dateutil>=2.8.1->pandas->llama_index) (1.16.0)\n",
            "Installing collected packages: typing-extensions, mypy-extensions, marshmallow, h11, deprecated, typing-inspect, tiktoken, httpcore, httpx, dataclasses-json, openai, llama_index\n",
            "  Attempting uninstall: typing-extensions\n",
            "    Found existing installation: typing_extensions 4.5.0\n",
            "    Uninstalling typing_extensions-4.5.0:\n",
            "      Successfully uninstalled typing_extensions-4.5.0\n",
            "\u001b[31mERROR: pip's dependency resolver does not currently take into account all the packages that are installed. This behaviour is the source of the following dependency conflicts.\n",
            "llmx 0.0.15a0 requires cohere, which is not installed.\n",
            "tensorflow-probability 0.22.0 requires typing-extensions<4.6.0, but you have typing-extensions 4.9.0 which is incompatible.\u001b[0m\u001b[31m\n",
            "\u001b[0mSuccessfully installed dataclasses-json-0.6.3 deprecated-1.2.14 h11-0.14.0 httpcore-1.0.2 httpx-0.26.0 llama_index-0.9.39 marshmallow-3.20.2 mypy-extensions-1.0.0 openai-1.10.0 tiktoken-0.5.2 typing-extensions-4.9.0 typing-inspect-0.9.0\n"
          ]
        }
      ],
      "source": [
        "!pip install llama_index"
      ]
    },
    {
      "cell_type": "markdown",
      "source": [
        "#setup"
      ],
      "metadata": {
        "id": "be9b2l9p2tsQ"
      }
    },
    {
      "cell_type": "code",
      "source": [
        "import nest_asyncio\n",
        "nest_asyncio.apply()\n",
        "import os\n",
        "os.environ[\"OPENAI_API_KEY\"]=\"xxxxxxxxxxxxxxxxxxxxxxxxxxxxxxxxxxxxxxxxxxxxxxxxxxxxxxxxxxx\""
      ],
      "metadata": {
        "id": "IQUEkAhZo8qt"
      },
      "execution_count": 2,
      "outputs": []
    },
    {
      "cell_type": "markdown",
      "source": [
        "# Define MetaData Extractor"
      ],
      "metadata": {
        "id": "WP9OMmRi25Kx"
      }
    },
    {
      "cell_type": "code",
      "source": [
        "from llama_index import ServiceContext\n",
        "from llama_index.llms import OpenAI\n",
        "from llama_index.schema import MetadataMode"
      ],
      "metadata": {
        "id": "uE43Jy0DqRPr"
      },
      "execution_count": 3,
      "outputs": []
    },
    {
      "cell_type": "code",
      "source": [
        "llm=OpenAI(temperature = 0.1, model=\"gpt-3.5-turbo\",max_tokens=128)"
      ],
      "metadata": {
        "id": "R9BXBL5LrIIJ"
      },
      "execution_count": 4,
      "outputs": []
    },
    {
      "cell_type": "markdown",
      "source": [
        "# Here we define Metadata Extractors\n",
        "\n",
        "* QuestionAnsweredExtractor\n",
        "* SummaryExtractor"
      ],
      "metadata": {
        "id": "5dIazPx02_Ry"
      }
    },
    {
      "cell_type": "code",
      "source": [
        "from llama_index.node_parser import TokenTextSplitter\n",
        "from llama_index.extractors import (\n",
        "    SummaryExtractor,\n",
        "    QuestionsAnsweredExtractor,\n",
        ")"
      ],
      "metadata": {
        "id": "5gPBH_YkrW0X"
      },
      "execution_count": 5,
      "outputs": []
    },
    {
      "cell_type": "code",
      "source": [
        "node_parser=TokenTextSplitter(separator=\" \", chunk_size=64, chunk_overlap=32)"
      ],
      "metadata": {
        "id": "Dmy4IAKzrvfo"
      },
      "execution_count": 8,
      "outputs": []
    },
    {
      "cell_type": "code",
      "source": [
        "question_answer_extractor= QuestionsAnsweredExtractor(questions=2,llm=llm,metadata_mode=MetadataMode.EMBED)"
      ],
      "metadata": {
        "id": "Kc4U_RlBsVkP"
      },
      "execution_count": 9,
      "outputs": []
    },
    {
      "cell_type": "code",
      "source": [
        "summary_extractor=SummaryExtractor(summaries=[\"prev\",\"self\",\"next\"],llm=llm)"
      ],
      "metadata": {
        "id": "4Eg7K_rvs76J"
      },
      "execution_count": 10,
      "outputs": []
    },
    {
      "cell_type": "markdown",
      "source": [
        "# Load in data and Run extractors"
      ],
      "metadata": {
        "id": "d0mBqzoc3Rai"
      }
    },
    {
      "cell_type": "code",
      "source": [
        "from llama_index import download_loader\n",
        "SimpleWebPageReader=download_loader(\"SimpleWebPageReader\")\n",
        "reader=SimpleWebPageReader(html_to_text=True)\n",
        "documents=reader.load_data(urls=[\"https://www.cricbuzz.com/\"])"
      ],
      "metadata": {
        "id": "SY6w6ZTstMgI"
      },
      "execution_count": 11,
      "outputs": []
    },
    {
      "cell_type": "code",
      "source": [
        "documents[0].metadata"
      ],
      "metadata": {
        "colab": {
          "base_uri": "https://localhost:8080/"
        },
        "id": "gCMhICRuvskh",
        "outputId": "f34883b2-0858-49d2-8e32-5eda1284fa36"
      },
      "execution_count": 12,
      "outputs": [
        {
          "output_type": "execute_result",
          "data": {
            "text/plain": [
              "{}"
            ]
          },
          "metadata": {},
          "execution_count": 12
        }
      ]
    },
    {
      "cell_type": "code",
      "source": [
        "documents[0].get_content()"
      ],
      "metadata": {
        "colab": {
          "base_uri": "https://localhost:8080/",
          "height": 1000
        },
        "id": "gMM9YLlTwCt6",
        "outputId": "faa066bc-ebc2-4004-cbf5-a7821fc0573f"
      },
      "execution_count": 14,
      "outputs": [
        {
          "output_type": "execute_result",
          "data": {
            "text/plain": [
              "'[](https://plus.google.com/104502282508811467249)[](Javascript:void\\\\(0\\\\))[✖](Javascript:void\\\\(0\\\\))\\n\\n[![Cricbuzz Logo](https://static.cricbuzz.com/images/cb_logo.svg)](/)[Live\\nScores](/cricket-match/live-scores \"Live Cricket Score\")[Schedule](/cricket-\\nschedule/upcoming-series/international \"Cricket Schedule\")[Archives](/cricket-\\nscorecard-archives \"Cricket Scorecard Archives\")\\n\\n[News](/cricket-news)[All Stories](/cricket-news \"Latest Cricket News\")\\n[Cricbuzz Plus](/cricket-news/editorial/cb-plus \"Cricbuzz Plus Premium\\nArticles\")[Latest News](/cricket-news/latest-news \"Latest Cricket\\nNews\")[Topics](/cricket-news/info/ \"Latest Cricket\\nTopics\")[Spotlight](/cricket-news/editorial/spotlight \"Cricket Editorials and\\nSpecials\")[Opinions](/cricket-news/editorial/editorial-list \"Latest Cricket\\nOpinions & Editorials\")[Specials](/cricket-news/editorial/specials \"Latest\\nCricket Specials\")[Stats & Analysis](/cricket-news/editorial/stats-analysis\\n\"Latest Cricket Stats & Analysis\")[Interviews](/cricket-\\nnews/editorial/interviews \"Latest Cricket Player Interviews\")[Live\\nBlogs](/cricket-news/editorial/live-blogs \"Latest Cricket Match live\\nblogs\")[Harsha Bhogle](/cricket-news/experts/harsha-bhogle/170 \"Articles and\\nVideos by Harsha Bhogle\")\\n\\n[Series](/cricket-schedule/series) [England tour of India, 2024](/cricket-\\nseries/6927/england-tour-of-india-2024 \"England tour of India, 2024\") [ICC\\nUnder 19 World Cup 2024](/cricket-series/7175/icc-under-19-world-cup-2024 \"ICC\\nUnder 19 World Cup 2024\") [Big Bash League 2023-24](/cricket-series/6822/big-\\nbash-league-2023-24 \"Big Bash League 2023-24\") [West Indies tour of Australia,\\n2024](/cricket-series/6297/west-indies-tour-of-australia-2024 \"West Indies\\ntour of Australia, 2024\") [International League T20, 2024](/cricket-\\nseries/7257/international-league-t20-2024 \"International League T20, 2024\")\\n[SA20, 2024](/cricket-series/7044/sa20-2024 \"SA20, 2024\") [Bangladesh Premier\\nLeague 2024](/cricket-series/7422/bangladesh-premier-league-2024 \"Bangladesh\\nPremier League 2024\") [Super Smash 2023-24](/cricket-series/7151/super-\\nsmash-2023-24 \"Super Smash 2023-24\") [Ranji Trophy 2023-24](/cricket-\\nseries/6725/ranji-trophy-2023-24 \"Ranji Trophy 2023-24\") [All Series\\n»](/cricket-schedule/series)\\n\\n[Teams](/cricket-team)\\n\\n#### Test Teams\\n\\n[India](/cricket-team/india/2 \"India Cricket Team\") [Afghanistan](/cricket-\\nteam/afghanistan/96 \"Afghanistan Cricket Team\") [Ireland](/cricket-\\nteam/ireland/27 \"Ireland Cricket Team\") [Pakistan](/cricket-team/pakistan/3\\n\"Pakistan Cricket Team\") [Australia](/cricket-team/australia/4 \"Australia\\nCricket Team\") [Sri Lanka](/cricket-team/sri-lanka/5 \"Sri Lanka Cricket Team\")\\n[Bangladesh](/cricket-team/bangladesh/6 \"Bangladesh Cricket Team\")\\n[England](/cricket-team/england/9 \"England Cricket Team\") [West\\nIndies](/cricket-team/west-indies/10 \"West Indies Cricket Team\") [South\\nAfrica](/cricket-team/south-africa/11 \"South Africa Cricket Team\")\\n[Zimbabwe](/cricket-team/zimbabwe/12 \"Zimbabwe Cricket Team\") [New\\nZealand](/cricket-team/new-zealand/13 \"New Zealand Cricket Team\")\\n\\n#### Associate\\n\\n[Malaysia](/cricket-team/malaysia/71 \"Malaysia Cricket Team\")\\n[Nepal](/cricket-team/nepal/72 \"Nepal Cricket Team\") [Germany](/cricket-\\nteam/germany/77 \"Germany Cricket Team\") [Namibia](/cricket-team/namibia/161\\n\"Namibia Cricket Team\") [Denmark](/cricket-team/denmark/185 \"Denmark Cricket\\nTeam\") [Singapore](/cricket-team/singapore/190 \"Singapore Cricket Team\")\\n[Papua New Guinea](/cricket-team/papua-new-guinea/287 \"Papua New Guinea\\nCricket Team\") [Kuwait](/cricket-team/kuwait/298 \"Kuwait Cricket Team\")\\n[Vanuatu](/cricket-team/vanuatu/300 \"Vanuatu Cricket Team\") [Jersey](/cricket-\\nteam/jersey/303 \"Jersey Cricket Team\") [Oman](/cricket-team/oman/304 \"Oman\\nCricket Team\") [Fiji](/cricket-team/fiji/343 \"Fiji Cricket Team\")\\n\\n[More...](/cricket-team)\\n\\n[Videos](/cricket-videos) [All Videos](/cricket-videos \"All Cricket Videos\")\\n[Categories](/cricket-videos/categories \"Cricket Videos Categories\")\\n[Playlists](/cricket-videos/playlists \"Cricket Videos Playlists\")\\n\\n[Rankings](/cricket-stats/icc-rankings/men/batting)[ICC Rankings -\\nMen](/cricket-stats/icc-rankings/men/batting \"ICC Rankings Men\")[ICC Rankings\\n- Women](/cricket-stats/icc-rankings/women/batting \"ICC Rankings Women\")\\n\\nMore [World Test Championship](/cricket-stats/points-table/test/icc-world-\\ntest-championship \"World Test Championship\") [IPL Live Stream](/ipl-live-\\nstreaming \"IPL Live Stream\") [World Cup Super League](/cricket-stats/points-\\ntable/odi/icc-men-cricket-world-cup-super-league \"World Cup Super League\")\\n[Photos](/cricket-photo-gallery \"Photo Gallery\") [Mobile Apps](/mobileapps\\n\"Mobile Apps\")[Careers](/careers \"Careers\")[Contact Us](/info/contact \"Contact\\nUs\")\\n\\n[ Cricbuzz Plus ](/cb-plus/premium-content/home)\\n\\n✖\\n\\n  * {{suggest.tag}}\\n\\n[\\n\\nSearch for \"\"\\n\\n](javascript:void\\\\(0\\\\))\\n\\nSEARCH\\n\\n[](/premium-subscription/user/account-info) [My Account](/premium-\\nsubscription/user/account-info \"My Account\") Sign Out\\n\\n[MATCHES](/cricket-match/live-scores)[ENG vs IND - Stumps](/live-cricket-\\nscores/78628/eng-vs-ind-1st-test-england-tour-of-india-2024 \"England v India,\\n1st Test - Stumps\")[WI vs AUS - Stumps](/live-cricket-scores/70333/wi-vs-\\naus-2nd-test-west-indies-tour-of-australia-2024 \"West Indies v Australia, 2nd\\nTest - Stumps\")[DSG vs PR - DSG Won](/live-cricket-scores/80050/dsg-vs-\\npr-19th-match-sa20-2024 \"Durban Super Giants v Paarl Royals, 19th Match - DSG\\nWon\")[MIE vs SW - MIE Won](/live-cricket-scores/82801/mie-vs-sw-9th-match-\\ninternational-league-t20-2024 \"MI Emirates v Sharjah Warriors, 9th Match - MIE\\nWon\")[CV vs SYST - CV Won](/live-cricket-scores/86970/cv-vs-syst-10th-match-\\nbangladesh-premier-league-2024 \"Comilla Victorians v Sylhet Strikers, 10th\\nMatch - CV Won\")\\n\\nAllLive NowToday\\n\\n  * INTERNATIONAL\\n\\nIND V ENG, 2024\\n\\n[England vs India](/live-cricket-scores/78628/eng-vs-ind-1st-test-ind-v-\\neng-2024 \"England v India, 1st Test - Stumps\")\\n\\n1st Test\\n\\n  * Australia V West Indies, 2024\\n\\n[West Indies vs Australia](/live-cricket-scores/70333/wi-vs-aus-2nd-test-\\naustralia-v-west-indies-2024 \"West Indies v Australia, 2nd Test - Stumps\")\\n\\n2nd Test\\n\\n  * ACC Mens T20I Challenger Cup\\n\\n[Cambodia vs Myanmar](/live-cricket-scores/88270/cbd-vs-mmr-qualifier-1-acc-\\nmens-t20i-challenger-cup \"Cambodia v Myanmar, Qualifier 1 - Upcoming\")\\n\\nQualifier 1\\n\\n  * [Cambodia vs China](/live-cricket-scores/88277/cbd-vs-chn-qualifier-2-acc-mens-t20i-challenger-cup \"Cambodia v China, Qualifier 2 - Upcoming\")\\n\\nQualifier 2\\n\\n  * T20 LEAGUE\\n\\nInternational League T20, 2024\\n\\n[Abu Dhabi Knight Riders vs Dubai Capitals](/live-cricket-scores/82794/adkr-\\nvs-dcp-8th-match-international-league-t20-2024 \"Abu Dhabi Knight Riders v\\nDubai Capitals, 8th Match - DCP Won\")\\n\\n8th Match\\n\\n  * [MI Emirates vs Sharjah Warriors](/live-cricket-scores/82801/mie-vs-sw-9th-match-international-league-t20-2024 \"MI Emirates v Sharjah Warriors, 9th Match - MIE Won\")\\n\\n9th Match\\n\\n  * [Abu Dhabi Knight Riders vs Desert Vipers](/live-cricket-scores/82803/adkr-vs-dv-10th-match-international-league-t20-2024 \"Abu Dhabi Knight Riders v Desert Vipers, 10th Match - Preview\")\\n\\n10th Match\\n\\n  * [Gulf Giants vs Dubai Capitals](/live-cricket-scores/82808/gg-vs-dcp-11th-match-international-league-t20-2024 \"Gulf Giants v Dubai Capitals, 11th Match - Preview\")\\n\\n11th Match\\n\\n  * [MI Emirates vs Abu Dhabi Knight Riders](/live-cricket-scores/82810/mie-vs-adkr-12th-match-international-league-t20-2024 \"MI Emirates v Abu Dhabi Knight Riders, 12th Match - Upcoming\")\\n\\n12th Match\\n\\n  * [Desert Vipers vs Sharjah Warriors](/live-cricket-scores/82815/dv-vs-sw-13th-match-international-league-t20-2024 \"Desert Vipers v Sharjah Warriors, 13th Match - Upcoming\")\\n\\n13th Match\\n\\n  * SA20\\n\\n[Pretoria Capitals vs Sunrisers Eastern Cape](/live-cricket-scores/80043/pc-\\nvs-sec-18th-match-sa20 \"Pretoria Capitals v Sunrisers Eastern Cape, 18th Match\\n- PC Won\")\\n\\n18th Match\\n\\n  * [Durban Super Giants vs Paarl Royals](/live-cricket-scores/80050/dsg-vs-pr-19th-match-sa20 \"Durban Super Giants v Paarl Royals, 19th Match - DSG Won\")\\n\\n19th Match\\n\\n  * [Sunrisers Eastern Cape vs MI Cape Town](/live-cricket-scores/80057/sec-vs-mict-20th-match-sa20 \"Sunrisers Eastern Cape v MI Cape Town, 20th Match - Preview\")\\n\\n20th Match\\n\\n  * [Pretoria Capitals vs Joburg Super Kings](/live-cricket-scores/80064/pc-vs-jsk-21st-match-sa20 \"Pretoria Capitals v Joburg Super Kings, 21st Match - Preview\")\\n\\n21st Match\\n\\n  * [Durban Super Giants vs Paarl Royals](/live-cricket-scores/80068/dsg-vs-pr-22nd-match-sa20 \"Durban Super Giants v Paarl Royals, 22nd Match - Upcoming\")\\n\\n22nd Match\\n\\n  * BPL 2024\\n\\n[Khulna Tigers vs Rangpur Riders](/live-cricket-scores/86963/klt-vs-rgr-9th-\\nmatch-bpl-2024 \"Khulna Tigers v Rangpur Riders, 9th Match - KLT Won\")\\n\\n9th Match\\n\\n  * [Comilla Victorians vs Sylhet Strikers](/live-cricket-scores/86970/cv-vs-syst-10th-match-bpl-2024 \"Comilla Victorians v Sylhet Strikers, 10th Match - CV Won\")\\n\\n10th Match\\n\\n  * [Chattogram Challengers vs Fortune Barishal](/live-cricket-scores/86973/cgc-vs-brsal-11th-match-bpl-2024 \"Chattogram Challengers v Fortune Barishal, 11th Match - Preview\")\\n\\n11th Match\\n\\n  * [Durdanto Dhaka vs Rangpur Riders](/live-cricket-scores/86977/drd-vs-rgr-12th-match-bpl-2024 \"Durdanto Dhaka v Rangpur Riders, 12th Match - Preview\")\\n\\n12th Match\\n\\n  * Super Smash 2023-24\\n\\n[Wellington vs Canterbury](/live-cricket-scores/81645/wel-vs-cntbry-\\nelimination-final-super-smash-2023-24 \"Wellington v Canterbury, Elimination\\nFinal - CNTBRY Won\")\\n\\nElimination Final\\n\\n  * [Auckland vs Canterbury](/live-cricket-scores/81650/akl-vs-cntbry-final-super-smash-2023-24 \"Auckland v Canterbury, Final - Upcoming\")\\n\\nFinal\\n\\n  * DOMESTIC\\n\\nICC Under 19 World Cup 2024\\n\\n[Australia U19 vs Zimbabwe U19](/live-cricket-scores/86585/ausu19-vs-\\nzimu19-16th-match-group-c-icc-under-19-world-cup-2024 \"Australia U19 v\\nZimbabwe U19, 16th Match, Group C - AUSU19 Won\")\\n\\n16th Match, Group C\\n\\n  * [India U19 vs Ireland U19](/live-cricket-scores/86581/indu19-vs-ireu19-15th-match-group-a-icc-under-19-world-cup-2024 \"India U19 v Ireland U19, 15th Match, Group A - INDU19 Won\")\\n\\n15th Match, Group A\\n\\n  * [England U19 vs West Indies U19](/live-cricket-scores/86595/engu19-vs-wiu19-18th-match-group-b-icc-under-19-world-cup-2024 \"England U19 v West Indies U19, 18th Match, Group B - WIU19 Won\")\\n\\n18th Match, Group B\\n\\n  * [Bangladesh U19 vs United States U19](/live-cricket-scores/86592/banu19-vs-usau19-17th-match-group-a-icc-under-19-world-cup-2024 \"Bangladesh U19 v United States U19, 17th Match, Group A - BANU19 Won\")\\n\\n17th Match, Group A\\n\\n  * [Afghanistan U19 vs Nepal U19](/live-cricket-scores/86599/afgu19-vs-nplu19-19th-match-group-d-icc-under-19-world-cup-2024 \"Afghanistan U19 v Nepal U19, 19th Match, Group D - NPLU19 Won\")\\n\\n19th Match, Group D\\n\\n  * [Pakistan U19 vs New Zealand U19](/live-cricket-scores/86616/paku19-vs-nzu19-22nd-match-group-d-icc-under-19-world-cup-2024 \"Pakistan U19 v New Zealand U19, 22nd Match, Group D - Preview\")\\n\\n22nd Match, Group D\\n\\n  * [South Africa U19 vs Scotland U19](/live-cricket-scores/86609/rsau19-vs-scou19-21st-match-group-b-icc-under-19-world-cup-2024 \"South Africa U19 v Scotland U19, 21st Match, Group B - Preview\")\\n\\n21st Match, Group B\\n\\n  * [Zimbabwe U19 vs Namibia U19](/live-cricket-scores/86606/zimu19-vs-namu19-20th-match-group-c-icc-under-19-world-cup-2024 \"Zimbabwe U19 v Namibia U19, 20th Match, Group C - Preview\")\\n\\n20th Match, Group C\\n\\n  * [Australia U19 vs Sri Lanka U19](/live-cricket-scores/86627/ausu19-vs-slu19-24th-match-group-c-icc-under-19-world-cup-2024 \"Australia U19 v Sri Lanka U19, 24th Match, Group C - Upcoming\")\\n\\n24th Match, Group C\\n\\n  * [India U19 vs United States U19](/live-cricket-scores/86623/indu19-vs-usau19-23rd-match-group-a-icc-under-19-world-cup-2024 \"India U19 v United States U19, 23rd Match, Group A - Upcoming\")\\n\\n23rd Match, Group A\\n\\n  * Ranji Trophy\\n\\n[Sikkim vs Nagaland](/live-cricket-scores/74380/skm-vs-ngl-plate-ranji-trophy\\n\"Sikkim v Nagaland, Plate - Stumps\")\\n\\nPlate\\n\\n  * [Karnataka vs Tripura](/live-cricket-scores/74331/kar-vs-tri-elite-group-c-ranji-trophy \"Karnataka v Tripura, Elite Group C - Stumps\")\\n\\nElite Group C\\n\\n  * [Bengal vs Assam](/live-cricket-scores/74310/ben-vs-asm-elite-group-b-ranji-trophy \"Bengal v Assam, Elite Group B - Stumps\")\\n\\nElite Group B\\n\\n  * [Andhra vs Chhattisgarh](/live-cricket-scores/74321/ap-vs-cg-elite-group-b-ranji-trophy \"Andhra v Chhattisgarh, Elite Group B - Stumps\")\\n\\nElite Group B\\n\\n  * [Vidarbha vs Jharkhand](/live-cricket-scores/74356/vid-vs-jhkd-elite-group-a-ranji-trophy \"Vidarbha v Jharkhand, Elite Group A - Stumps\")\\n\\nElite Group A\\n\\n  * [Odisha vs Himachal Pradesh](/live-cricket-scores/74377/odsa-vs-hp-elite-group-d-ranji-trophy \"Odisha v Himachal Pradesh, Elite Group D - Stumps\")\\n\\nElite Group D\\n\\n  * [Goa vs Punjab](/live-cricket-scores/74335/goa-vs-pun-elite-group-c-ranji-trophy \"Goa v Punjab, Elite Group C - Stumps\")\\n\\nElite Group C\\n\\n  * [Manipur vs Rajasthan](/live-cricket-scores/74373/mnp-vs-raj-elite-group-a-ranji-trophy \"Manipur v Rajasthan, Elite Group A - Stumps\")\\n\\nElite Group A\\n\\n  * [Delhi vs Uttarakhand](/live-cricket-scores/74366/del-vs-utk-elite-group-d-ranji-trophy \"Delhi v Uttarakhand, Elite Group D - Stumps\")\\n\\nElite Group D\\n\\n  * [Kerala vs Bihar](/live-cricket-scores/74328/ker-vs-bih-elite-group-b-ranji-trophy \"Kerala v Bihar, Elite Group B - Stumps\")\\n\\nElite Group B\\n\\n  * [Haryana vs Maharashtra  LIVE](/live-cricket-scores/74363/har-vs-mah-elite-group-a-ranji-trophy \"Haryana v Maharashtra, Elite Group A - Live\")\\n\\nElite Group A\\n\\n  * [Mumbai vs Uttar Pradesh](/live-cricket-scores/74324/mum-vs-up-elite-group-b-ranji-trophy \"Mumbai v Uttar Pradesh, Elite Group B - Stumps\")\\n\\nElite Group B\\n\\n  * [Madhya Pradesh vs Puducherry  LIVE](/live-cricket-scores/74359/mp-vs-pdc-elite-group-d-ranji-trophy \"Madhya Pradesh v Puducherry, Elite Group D - Live\")\\n\\nElite Group D\\n\\n  * [Mizoram vs Meghalaya](/live-cricket-scores/74391/miz-vs-mgly-plate-ranji-trophy \"Mizoram v Meghalaya, Plate - Stumps\")\\n\\nPlate\\n\\n  * [Jammu and Kashmir vs Baroda  LIVE](/live-cricket-scores/74317/jk-vs-brd-elite-group-d-ranji-trophy \"Jammu and Kashmir v Baroda, Elite Group D - Live\")\\n\\nElite Group D\\n\\n  * [Chandigarh vs Tamil Nadu](/live-cricket-scores/74349/cdg-vs-tn-elite-group-c-ranji-trophy \"Chandigarh v Tamil Nadu, Elite Group C - Stumps\")\\n\\nElite Group C\\n\\n  * [Arunachal Pradesh vs Hyderabad](/live-cricket-scores/74387/arnp-vs-hyd-plate-ranji-trophy \"Arunachal Pradesh v Hyderabad, Plate - Stumps\")\\n\\nPlate\\n\\n  * [Services vs Saurashtra](/live-cricket-scores/74342/ser-vs-saur-elite-group-a-ranji-trophy \"Services v Saurashtra, Elite Group A - Stumps\")\\n\\nElite Group A\\n\\n  * [Railways vs Gujarat](/live-cricket-scores/74338/rlys-vs-guj-elite-group-c-ranji-trophy \"Railways v Gujarat, Elite Group C - Stumps\")\\n\\nElite Group C\\n\\n  * England Lions tour of India\\n\\n[England Lions vs India A](/live-cricket-scores/87346/enga-vs-inda-2nd-\\nunofficial-test-england-lions-tour-of-india \"England Lions v India A, 2nd\\nunofficial Test - Lunch\")\\n\\n2nd unofficial Test\\n\\n  * WOMEN\\n\\nZimbabwe Women v Ireland Women, 2024\\n\\n[Ireland Women vs Zimbabwe Women](/live-cricket-scores/88158/irew-vs-\\nzimw-1st-t20i-zimbabwe-women-v-ireland-women-2024 \"Ireland Women v Zimbabwe\\nWomen, 1st T20I - IREW Won\")\\n\\n1st T20I\\n\\n  * [Zimbabwe Women vs Ireland Women](/live-cricket-scores/88165/zimw-vs-irew-2nd-t20i-zimbabwe-women-v-ireland-women-2024 \"Zimbabwe Women v Ireland Women, 2nd T20I - Upcoming\")\\n\\n2nd T20I\\n\\n  * Australia Women v South Africa Women\\n\\n[South Africa Women vs Australia Women  LIVE](/live-cricket-scores/70431/rsaw-\\nvs-ausw-1st-t20i-australia-women-v-south-africa-women \"South Africa Women v\\nAustralia Women, 1st T20I - Live\")\\n\\n1st T20I\\n\\n  * [Australia Women vs South Africa Women](/live-cricket-scores/70438/ausw-vs-rsaw-2nd-t20i-australia-women-v-south-africa-women \"Australia Women v South Africa Women, 2nd T20I - Upcoming\")\\n\\n2nd T20I\\n\\n  * [ 1st Test • England tour of India, 2024 Test ![](https://static.cricbuzz.com/a/img/v1/25x18/i1/c172123/england.jpg)ENG246 ![](https://static.cricbuzz.com/a/img/v1/25x18/i1/c172115/india.jpg)IND421-7 Day 2: Stumps - India lead by 175 runs ](/live-cricket-scores/78628/eng-vs-ind-1st-test-england-tour-of-india-2024 \"England v India - 1st Test\")\\n\\n[ schedule ](cricket-series/6927/england-tour-of-india-2024/matches)\\n\\n  * [ 2nd Test • West Indies tour of Australia, 2024 Test ![](https://static.cricbuzz.com/a/img/v1/25x18/i1/c172124/west-indies.jpg)WI311 & 13-1 ![](https://static.cricbuzz.com/a/img/v1/25x18/i1/c172117/australia.jpg)AUS289-9 d Day 2: Stumps - West Indies lead by 35 runs ](/live-cricket-scores/70333/wi-vs-aus-2nd-test-west-indies-tour-of-australia-2024 \"West Indies v Australia - 2nd Test\")\\n\\n[ schedule ](cricket-series/6297/west-indies-tour-of-australia-2024/matches)\\n\\n  * [ 19th Match • SA20, 2024 T20 ![](https://static.cricbuzz.com/a/img/v1/25x18/i1/c248403/durban-super-giants.jpg)DSG190-3 (20) ![](https://static.cricbuzz.com/a/img/v1/25x18/i1/c248440/paarl-royals.jpg)PR133 (19.3) Durban Super Giants won by 57 runs ](/live-cricket-scores/80050/dsg-vs-pr-19th-match-sa20-2024 \"Durban Super Giants v Paarl Royals - 19th Match\")\\n\\n[ fantasy ](/cricket-fantasy-handbook/80050/dsg-vs-pr-19th-match-sa20-2024)\\n\\n[ table ](cricket-series/7044/sa20-2024/points-table)\\n\\n[ schedule ](cricket-series/7044/sa20-2024/matches)\\n\\n  * [ 9th Match • International League T20, 2024 T20 ![](https://static.cricbuzz.com/a/img/v1/25x18/i1/c249196/mi-emirates.jpg)MIE180-7 (20) ![](https://static.cricbuzz.com/a/img/v1/25x18/i1/c249197/sharjah-warriors.jpg)SW74 (12.1) MI Emirates won by 106 runs ](/live-cricket-scores/82801/mie-vs-sw-9th-match-international-league-t20-2024 \"MI Emirates v Sharjah Warriors - 9th Match\")\\n\\n[ points table ](cricket-series/7257/international-league-t20-2024/points-\\ntable)\\n\\n[ schedule ](cricket-series/7257/international-league-t20-2024/matches)\\n\\n  * [ 10th Match • Bangladesh Premier League 2024 T20 ![](https://static.cricbuzz.com/a/img/v1/25x18/i1/c172369/comilla-victorians.jpg)CV130-8 (20) ![](https://static.cricbuzz.com/a/img/v1/25x18/i1/c253023/sylhet-strikers.jpg)SYST78 (16.2) Comilla Victorians won by 52 runs ](/live-cricket-scores/86970/cv-vs-syst-10th-match-bangladesh-premier-league-2024 \"Comilla Victorians v Sylhet Strikers - 10th Match\")\\n\\n[ points table ](cricket-series/7422/bangladesh-premier-league-2024/points-\\ntable)\\n\\n[ schedule ](cricket-series/7422/bangladesh-premier-league-2024/matches)\\n\\n  * [ 18th Match, Group B • ICC Under 19 World Cup 2024 List A ![](https://static.cricbuzz.com/a/img/v1/25x18/i1/c172241/england-u19.jpg)ENGU..192 (46.3) ![](https://static.cricbuzz.com/a/img/v1/25x18/i1/c172275/west-indies-u19.jpg)WIU1..196-8 (41) West Indies U19 won by 2 wkts ](/live-cricket-scores/86595/engu19-vs-wiu19-18th-match-group-b-icc-under-19-world-cup-2024 \"England U19 v West Indies U19 - 18th Match, Group B\")\\n\\n[ points table ](cricket-series/7175/icc-under-19-world-cup-2024/points-table)\\n\\n[ schedule ](cricket-series/7175/icc-under-19-world-cup-2024/matches)\\n\\n[](/premium-subscription/user/select-plan/cricbuzz-promo)\\n\\nX\\n\\n## LATEST NEWS\\n\\n[The sun is shining in the West for UP](/cricket-news/129271/the-sun-is-\\nshining-in-the-west-for-up \"The sun is shining in the West for UP\")\\n\\n12h ago\\n\\n[Fortune Barishal retract match-fixing aspersion cast on Shoaib\\nMalik](/cricket-news/129266/fortune-barishal-retract-match-fixing-aspersion-\\ncast-on-shoaib-malik \"Fortune Barishal retract match-fixing aspersion cast on\\nShoaib Malik\")\\n\\n16h ago\\n\\n[Rachin Ravindra set for new role on Test return](/cricket-news/129259/rachin-\\nravindra-set-for-new-role-on-test-return \"Rachin Ravindra set for new role on\\nTest return\")\\n\\n1d ago\\n\\n[Cummins, Kohli and Khawaja take top accolades at annual ICC awards](/cricket-\\nnews/129255/cummins-kohli-and-khawaja-take-top-accolades-at-annual-icc-awards\\n\"Cummins, Kohli and Khawaja take top accolades at annual ICC awards\")\\n\\n1d ago\\n\\n[Madhevere, Mavuta banned for recreational drug use](/cricket-\\nnews/129250/madhevere-mavuta-banned-for-recreational-drug-use \"Madhevere,\\nMavuta banned for recreational drug use\")\\n\\n1d ago\\n\\n[England make breezy beginning but lose three wickets](/cricket-\\nnews/129249/england-make-breezy-beginning-but-lose-three-wickets \"England make\\nbreezy beginning but lose three wickets\")\\n\\n1d ago\\n\\n[Sri Lanka, Pakistan maintain unbeaten streak ](/cricket-news/129246/sri-\\nlanka-pakistan-maintain-unbeaten-streak \"Sri Lanka, Pakistan maintain unbeaten\\nstreak \")\\n\\n2d ago\\n\\n[Shakib to take conventional route for eye treatment](/cricket-\\nnews/129245/shakib-to-take-conventional-route-for-eye-treatment \"Shakib to\\ntake conventional route for eye treatment\")\\n\\n2d ago\\n\\n[The diplomatic dynamics of Shoaib Bashir\\'s visa situation](/cricket-\\nnews/129244/shoaib-bashir-visa-situation-resolved \"The diplomatic dynamics of\\nShoaib Bashir\\'s visa situation\")\\n\\n2d ago\\n\\n[Rohit, Stokes express support for Shoaib Bashir](/cricket-news/129240/rohit-\\nstokes-express-support-for-shoaib-bashir \"Rohit, Stokes express support for\\nShoaib Bashir\")\\n\\n2d ago\\n\\n[ _More News.._](/cricket-news/latest-news \"More News\")\\n\\n## LATEST PHOTOS\\n\\n[ ![India vs England, 1st Test, Day 2]() India vs England, 1st Test, Day 2\\nFri, Jan 26 2024 ](/cricket-gallery/5828/india-vs-england-1st-test-day-2\\n\"India vs England, 1st Test, Day 2\")\\n\\n[ ![India vs England, 1st Test, Day 1]() India vs England, 1st Test, Day 1\\nThu, Jan 25 2024 ](/cricket-gallery/5827/india-vs-england-1st-test-day-1\\n\"India vs England, 1st Test, Day 1\")\\n\\n[ ![India vs Afghanistan, 3rd T20I]() India vs Afghanistan, 3rd T20I Wed, Jan\\n17 2024 ](/cricket-gallery/5826/india-vs-afghanistan-3rd-t20i \"India vs\\nAfghanistan, 3rd T20I\")\\n\\n[ ![India vs Afghanistan, 2nd T20I]() India vs Afghanistan, 2nd T20I Sun, Jan\\n14 2024 ](/cricket-gallery/5825/india-vs-afghanistan-2nd-t20i \"India vs\\nAfghanistan, 2nd T20I\")\\n\\n[ ![India vs Afghanistan, 1st T20I]() India vs Afghanistan, 1st T20I Thu, Jan\\n11 2024 ](/cricket-gallery/5824/india-vs-afghanistan-1st-t20i \"India vs\\nAfghanistan, 1st T20I\")\\n\\n[ ![South Africa vs India, 2nd Test, Day 2]() South Africa vs India, 2nd Test,\\nDay 2 Thu, Jan 04 2024 ](/cricket-gallery/5823/south-africa-vs-india-2nd-test-\\nday-2 \"South Africa vs India, 2nd Test, Day 2\")\\n\\n[_More Photos.._](/cricket-photo-gallery \"More Photos\")\\n\\n## SCHEDULE\\n\\nCambodia vs Myanmar, Qualifier 1\\n\\n •  GMT\\n\\nIndia vs England, 1st Test, Day 3\\n\\n •  GMT\\n\\nAustralia vs West Indies, 2nd Test, Day 3\\n\\n •  GMT\\n\\nCambodia vs China, Qualifier 2\\n\\n •  GMT\\n\\nIndia vs England, 1st Test, Day 4\\n\\n •  GMT\\n\\nAustralia vs West Indies, 2nd Test, Day 4\\n\\n •  GMT\\n\\nMyanmar vs China, Qualifier 3\\n\\n •  GMT\\n\\nIndia vs England, 1st Test, Day 5\\n\\n •  GMT\\n\\nAustralia vs West Indies, 2nd Test, Day 5\\n\\n •  GMT\\n\\nTBC (qualifier 2) vs TBC (qualifier 3), 9th Place Play-off\\n\\n •  GMT\\n\\nSaudi Arabia vs TBC (qualifier 1), 1st Match, Group A\\n\\n •  GMT\\n\\nIndonesia vs Bhutan, 2nd Match, Group A\\n\\n •  GMT\\n\\n[_More Matches.._](/cricket-schedule/upcoming-series/international \"Cricket\\nSchedule\")\\n\\nENGLAND TOUR OF INDIA 2024\\n\\n[![Rahul, Jadeja fifties put India in dominant\\nposition](https://static.cricbuzz.com/a/img/v1/420x235/i1/c374948/rahul-\\njadeja-fifties-put-indi.jpg)](/cricket-news/129267/rahul-jadeja-fifties-put-\\nindia-in-dominant-position \"Rahul, Jadeja fifties put India in dominant\\nposition\")\\n\\n## [ Rahul, Jadeja fifties put India in dominant position](/cricket-\\nnews/129267/rahul-jadeja-fifties-put-india-in-dominant-position \"Rahul, Jadeja\\nfifties put India in dominant position\")\\n\\nIndia finish Day 2 with a lead of to take control of the first Test in\\nHyderabad\\n\\n[England sweat over Leach\\'s fitness](/cricket-news/129270/england-sweat-over-\\nleachs-fitness \"England sweat over Leach\\'s fitness\")\\n\\nWEST INDIES TOUR OF AUSTRALIA 2024\\n\\n[![Cummins leads AUS fightback even as WI hold\\nedge](https://static.cricbuzz.com/a/img/v1/420x235/i1/c375086/cummins-leads-\\naus-fightback-ev.jpg)](/cricket-news/129268/cummins-leads-aus-fightback-even-\\nas-wi-hold-edge \"Cummins leads AUS fightback even as WI hold edge\")\\n\\n## [ Cummins leads AUS fightback even as WI hold edge](/cricket-\\nnews/129268/cummins-leads-aus-fightback-even-as-wi-hold-edge \"Cummins leads\\nAUS fightback even as WI hold edge\")\\n\\nThe Australian captain stroked an unbeaten 64 before his team struck late on\\nDay 2\\n\\n[A joyous day for West Indies cricket at the Gabba](/cricket-\\nnews/129274/a-joyous-day-for-west-indies-cricket-at-the-gabba \"A joyous day\\nfor West Indies cricket at the Gabba\")\\n\\nBREAKING THE SILENCE\\n\\n[![Mentored by Lara, guided by a higher faith: The Adrian Barath\\nstory](https://static.cricbuzz.com/a/img/v1/420x235/i1/c374663/mentored-by-\\nlara-guided-by-a.jpg)](/cricket-news/129261/mentored-by-lara-guided-by-a-\\nhigher-faith-the-adrian-barath-story \"Mentored by Lara, guided by a higher\\nfaith: The Adrian Barath story\")\\n\\n## [ Mentored by Lara, guided by a higher faith: The Adrian Barath\\nstory](/cricket-news/129261/mentored-by-lara-guided-by-a-higher-faith-the-\\nadrian-barath-story \"Mentored by Lara, guided by a higher faith: The Adrian\\nBarath story\")\\n\\nDestined for greatness, Barath thundered on to the scene with a Gabba ton on\\ndebut. His talent earned him admirers none less than Lara and Tendulkar. But\\nhe was done with international cricket at 22\\n\\nWPL 2024\\n\\n[![Mumbai Indians, Delhi Capitals to kick off WPL 2024 on Feburary\\n23](https://static.cricbuzz.com/a/img/v1/420x235/i1/c374104/mumbai-indians-\\ndelhi-capitals.jpg)](/cricket-news/129225/mumbai-indians-delhi-capitals-to-\\nkick-off-wpl-2024-on-feburary-23 \"Mumbai Indians, Delhi Capitals to kick off\\nWPL 2024 on Feburary 23\")\\n\\n## [ Mumbai Indians, Delhi Capitals to kick off WPL 2024 on Feburary\\n23](/cricket-news/129225/mumbai-indians-delhi-capitals-to-kick-off-\\nwpl-2024-on-feburary-23 \"Mumbai Indians, Delhi Capitals to kick off WPL 2024\\non Feburary 23\")\\n\\nDelhi will host the Eliminator on March 15 and the final on March 17\\n\\nICC UNDER-19 WORLD CUP 2024\\n\\n[![The magic of\\nMusheer](https://static.cricbuzz.com/a/img/v1/420x235/i1/c374648/the-magic-of-\\nmusheer.jpg)](/cricket-news/129257/the-magic-of-musheer \"The magic of\\nMusheer\")\\n\\n## [ The magic of Musheer](/cricket-news/129257/the-magic-of-musheer \"The\\nmagic of Musheer\")\\n\\n...when Oliver Riley ran in to bowl the second ball of the 48th over\\n\\n[2012 Under19 WC winners ready for India challenge](/cricket-\\nnews/129213/2012-under19-wc-winners-ready-for-india-challenge \"2012 Under19 WC\\nwinners ready for India challenge\")\\n\\nWEST INDIES TOUR OF AUSTRALIA 2024\\n\\n[![Shamar Joseph\\'s flash sprint, from Baracara to\\nAdelaide](https://static.cricbuzz.com/a/img/v1/420x235/i1/c373411/shamar-\\njosephs-flash-sprint.jpg)](/cricket-news/129166/shamar-josephs-flash-sprint-\\nfrom-baracara-to-adelaide \"Shamar Joseph\\'s flash sprint, from Baracara to\\nAdelaide\")\\n\\n## [ Shamar Joseph\\'s flash sprint, from Baracara to Adelaide](/cricket-\\nnews/129166/shamar-josephs-flash-sprint-from-baracara-to-adelaide \"Shamar\\nJoseph\\'s flash sprint, from Baracara to Adelaide\")\\n\\nIn an exclusive interview with Cricbuzz, West Indies\\' latest pace sensation\\nopens up about his life, family, cricketing journey and more\\n\\nSA TOUR OF NEW ZEALAND, 2024\\n\\n[![Rachin Ravindra set for new role on Test return]()](/cricket-\\nnews/129259/rachin-ravindra-set-for-new-role-on-test-return \"Rachin Ravindra\\nset for new role on Test return\")\\n\\n### [Rachin Ravindra set for new role on Test return](/cricket-\\nnews/129259/rachin-ravindra-set-for-new-role-on-test-return \"Rachin Ravindra\\nset for new role on Test return\")\\n\\n1d ago\\n\\nNew Zealand have handed fast bowler Will O\\'Rourke his maiden Test call-up\\n\\nT20 WORLD CUP 2024\\n\\n[![Why New York got three India games and Dallas\\nnone](https://static.cricbuzz.com/a/img/v1/420x235/i1/c372432/why-new-york-\\ngot-three-india-g.jpg)](/cricket-news/129157/why-new-york-got-three-india-\\ngames-and-dallas-none \"Why New York got three India games and Dallas none\")\\n\\n## [ Why New York got three India games and Dallas none](/cricket-\\nnews/129157/why-new-york-got-three-india-games-and-dallas-none \"Why New York\\ngot three India games and Dallas none\")\\n\\nNorth Texas-based Dallas Super Kings requested ICC for an India game but the\\nworld body had its own logistical and operational constraints\\n\\nINTERVIEW\\n\\n[![Arshin Kulkarni\\'s view from the top]()](/cricket-news/129242/arshin-\\nkulkarnis-view-from-the-top \"Arshin Kulkarni\\'s view from the top\")\\n\\n### [Arshin Kulkarni\\'s view from the top](/cricket-news/129242/arshin-\\nkulkarnis-view-from-the-top \"Arshin Kulkarni\\'s view from the top\")\\n\\n2d ago\\n\\nThe promising India U19 allrounder opened up on the importance of the World\\nCup he\\'s playing in, his hopes from this year\\'s IPL , a Jacques Kallis poster\\nthat still adorns the wall of his bedroom at home and more\\n\\nBBL FINAL\\n\\n[![Johnson, Brown, Renshaw star as Heat regain BBL glory]()](/cricket-\\nnews/129243/johnson-brown-renshaw-star-as-heat-regain-bbl-glory \"Johnson,\\nBrown, Renshaw star as Heat regain BBL glory\")\\n\\n### [Johnson, Brown, Renshaw star as Heat regain BBL glory](/cricket-\\nnews/129243/johnson-brown-renshaw-star-as-heat-regain-bbl-glory \"Johnson,\\nBrown, Renshaw star as Heat regain BBL glory\")\\n\\n2d ago\\n\\n11 years after their maiden BBL trophy, Brisbane Heat added another silverware\\nto their kitty with a comfortable 54-run win over Sydney Sixers\\n\\nAMERICAN PREMIER LEAGUE\\n\\n[![Behind the American Premier League\\nshambles](https://static.cricbuzz.com/a/img/v1/420x235/i1/c354399/behind-the-\\namerican-premier-le.jpg)](/cricket-news/129039/behind-the-american-premier-\\nleague-shambles \"Behind the American Premier League shambles\")\\n\\n## [ Behind the American Premier League shambles](/cricket-news/129039/behind-\\nthe-american-premier-league-shambles \"Behind the American Premier League\\nshambles\")\\n\\nAs it prepares to host a major ICC event for the first time, USA Cricket\\nurgently needs to get its house in order.\\n\\nCRICKET IN THE USA\\n\\n[![MLC 2024 set for July 4\\nstart](https://static.cricbuzz.com/a/img/v1/420x235/i1/c337965/mlc-2024-set-\\nfor-july-4-start.jpg)](/cricket-news/128821/mlc-2024-set-for-july-4-start \"MLC\\n2024 set for July 4 start\")\\n\\n## [ MLC 2024 set for July 4 start](/cricket-news/128821/mlc-2024-set-for-\\njuly-4-start \"MLC 2024 set for July 4 start\")\\n\\nThe second season of USA\\'s marquee T20 league will begin four days after the\\nconclusion of the T20 World Cup\\n\\n#### Featured Videos\\n\\n[![Cricbuzz Chatter: ENG v IND, 1st Test, Day 2\\nReview](https://static.cricbuzz.com/a/img/v1/290x164/i1/c375129/cricbuzz-\\nchatter-eng-v-ind-1.jpg)23:00▶\\n\\n#### Cricbuzz Chatter: ENG v IND, 1st Test, Day 2 Review\\n\\n](/cricket-videos/78263/cricbuzz-chatter-eng-v-ind-1st-test-day-2-review\\n\"Cricbuzz Chatter: ENG v IND, 1st Test, Day 2 Review\")\\n\\n11h ago\\n\\n[![The word \\'all-rounder\\' was designed for players like Jadeja: Dinesh\\nKarthik](https://static.cricbuzz.com/a/img/v1/290x164/i1/c375132/the-word-all-\\nrounder-was-des.jpg)▶\\n\\n#### The word \\'all-rounder\\' was designed for players like Jadeja: Dinesh\\nKarthik\\n\\n](/cricket-videos/78264/the-word-all-rounder-was-designed-for-players-like-\\njadeja-dinesh-karthik \"The word \\'all-rounder\\' was designed for players like\\nJadeja: Dinesh Karthik\")\\n\\n11h ago\\n\\n[![Under-pressure Gill needs to encash every opportunity hereon: Harsha\\nBhogle](https://static.cricbuzz.com/a/img/v1/290x164/i1/c375134/under-\\npressure-gill-needs-to-e.jpg)▶\\n\\n#### Under-pressure Gill needs to encash every opportunity hereon: Harsha\\nBhogle\\n\\n](/cricket-videos/78265/under-pressure-gill-needs-to-encash-every-opportunity-\\nhereon-harsha-bhogle \"Under-pressure Gill needs to encash every opportunity\\nhereon: Harsha Bhogle\")\\n\\n11h ago\\n\\n[More Videos](/cricket-videos \"Click to view more videos\")\\n\\n#### Specials\\n\\n[![January 2024 - News Digest]()\\n\\n#### January 2024 - News Digest\\n\\n](/cricket-news/129007/january-2024-news-digest \"January 2024 - News Digest\")\\n\\nNews bytes that you may have otherwise missed\\n\\n[![Bazball - The India edition]()\\n\\n#### Bazball - The India edition\\n\\n](/cricket-news/129232/bazball-the-india-edition \"Bazball - The India\\nedition\")\\n\\nWould they go after the likes of Bumrah and Ashwin? Can they buckle down until\\nthe right moment for take-off?\\n\\n[![From Joseph to Imlach - A dossier on the West Indians Down Under]()\\n\\n#### From Joseph to Imlach - A dossier on the West Indians Down Under\\n\\n](/cricket-news/129116/from-joseph-to-imlach-a-dossier-on-the-west-indians-\\ndown-under \"From Joseph to Imlach - A dossier on the West Indians Down Under\")\\n\\nA dossier on the members of the West Indies Test squad filled with fascinating\\nback stories and observations\\n\\n[![CSA failure fuels fire over Teeger]()\\n\\n#### CSA failure fuels fire over Teeger\\n\\n](/cricket-news/129154/csa-failure-fuels-fire-over-teeger \"CSA failure fuels\\nfire over Teeger\")\\n\\nThe board has been accused of antisemitism for taking the under-19 captaincy\\naway from Teeger but why was he retained at all in the first place after what\\nhe argued in his responding affidavit?\\n\\n[![Maybe it\\'s time cricketers were allowed to be Real People]()\\n\\n#### Maybe it\\'s time cricketers were allowed to be Real People\\n\\n](/cricket-news/128951/maybe-its-time-cricketers-were-allowed-to-be-real-\\npeople \"Maybe it\\'s time cricketers were allowed to be Real People\")\\n\\nCricketers are real people tackling real issues and speaking real truths. And\\nUsman Khawaja might just be the kind of pioneer they needed\\n\\n[![The Dean Elgar enigma]()\\n\\n#### The Dean Elgar enigma\\n\\n](/cricket-news/124844/the-dean-elgar-enigma \"The Dean Elgar enigma\")\\n\\nA guarded extrovert. An old school modern thinker. A sensitive, tough,\\nstraight-shooter who is alive to cultural nuance. South Africa\\'s captain opens\\nup in an unguarded interview\\n\\n[![Making sense of South Africa\\'s SA20-ravaged Test squad]()\\n\\n#### Making sense of South Africa\\'s SA20-ravaged Test squad\\n\\n](/cricket-news/128994/making-sense-of-south-africas-sa20-ravaged-test-squad\\n\"Making sense of South Africa\\'s SA20-ravaged Test squad\")\\n\\nNeil Brand, an uncapped player, will lead South Africa in a Test match in New\\nZealand. In fact, half of the chosen squad of 14 are uncapped\\n\\n[![The dynamics behind the ground-breaking 24.75 cr bid]()\\n\\n#### The dynamics behind the ground-breaking 24.75 cr bid\\n\\n](/cricket-news/128878/the-dynamics-behind-the-ground-breaking-2475-cr-bid\\n\"The dynamics behind the ground-breaking 24.75 cr bid\")\\n\\nKKR managed to secure the services of Mitchell Starc and staved off Gujarat\\nTitans due to some smart choices\\n\\n[![What Indian cricket means to others]()\\n\\n#### What Indian cricket means to others\\n\\n](/cricket-news/128722/what-indian-cricket-means-to-others \"What Indian\\ncricket means to others\")\\n\\nThat India are in South Africa so soon after being denied what until the World\\nCup final seemed a prize they had a divine right to claim adds a layer to a\\nnarrative that isn\\'t short on context\\n\\n[![The nucleus of the Rohit-Hardik captaincy swap]()\\n\\n#### The nucleus of the Rohit-Hardik captaincy swap\\n\\n](/cricket-news/128828/the-nucleus-of-the-rohit-sharma-hardik-pandya-\\ncaptaincy-swap-mumbai-indians-ipl \"The nucleus of the Rohit-Hardik captaincy\\nswap\")\\n\\nThe story of how Mumbai Indians went about the captaincy transition in their\\nranks\\n\\n[![Women\\'s Tests - A novelty that begs for context]()\\n\\n#### Women\\'s Tests - A novelty that begs for context\\n\\n](/cricket-news/128931/womens-tests-a-novelty-that-begs-for-context \"Women\\'s\\nTests - A novelty that begs for context\")\\n\\nThe hunger for more red-ball games in women\\'s cricket has grown manifold\\nwithin the ecosystem bereft of a defined path\\n\\n[![Kohli and the dreamy night at cricket]()\\n\\n#### Kohli and the dreamy night at cricket\\n\\n](/cricket-news/128521/virat-kohli-and-the-dreamy-night-at-cricket-icc-mens-\\nodi-world-cup-2023 \"Kohli and the dreamy night at cricket\")\\n\\nVirat Kohli surpassed his idol Sachin Tendulkar\\'s record of most ODI hundreds\\nat the home of Indian cricket, en route to putting India into yet another\\nWorld Cup final\\n\\n[![Going \\'wow\\' with Maxwell]()\\n\\n#### Going \\'wow\\' with Maxwell\\n\\n](/cricket-news/128417/going-wow-with-glenn-maxwell \"Going \\'wow\\' with\\nMaxwell\")\\n\\nThe man who fell off a golf cart and got concussed a week before had left\\neveryone else feeling silly, disillusioned and overwhelmed, even as he soared\\nto enter the pantheon of the greats with an innings of a lifetime\\n\\n[![The secret life of Gerald Coetzee]()\\n\\n#### The secret life of Gerald Coetzee\\n\\n](/cricket-news/128312/the-secret-life-of-gerald-coetzee \"The secret life of\\nGerald Coetzee\")\\n\\nSouth Africa\\'s latest fast bowling find is young, quick, talented and has\\nimpeccable manners. How did he become not only a hot prospect, but also so\\nthoroughly decent?\\n\\nWe use cookies to improve your experience on our site and to show you non-\\npersonalized ads. Find out more in our [privacy policy](/info/privacy) and\\n[cookie policy](/info/privacy#cookie_policy)OK\\n\\n[![Cricbuzz Logo](https://static.cricbuzz.com/images/cb_logo.svg)](/)\\n\\nMOBILE SITE & APPS\\n\\n  * [m.cricbuzz.com](https://m.cricbuzz.com)\\n  * [Android](https://play.google.com/store/apps/details?id=com.cricbuzz.android)\\n  * [iOS](https://itunes.apple.com/app/id360466413)\\n\\nFOLLOW US ON\\n\\n  * [facebook](https://www.facebook.com/cricbuzz \"Facebook\")\\n  * [twitter](https://twitter.com/cricbuzz \"Twitter\")\\n  * [youtube](https://www.youtube.com/channel/UCSRQXk5yErn4e14vN76upOw \"Youtube\")\\n  * [Pinterest](https://in.pinterest.com/cricbuzz/ \"Pinterest\")\\n\\nCOMPANY\\n\\n  * [Careers](/careers \"Careers\")\\n  * [Advertise](/info/advertise \"Advertise\")\\n  * [Privacy Policy](/info/privacy \"Privacy Policy\")\\n  * [Terms of Use](/info/termsofuse \"Terms of Use\")\\n  * [Cricbuzz TV Ads](/product-blog/cricbuzz-mobile-apps-tv-ad-cricket-ka-keeda \"Cricbuzz TV Ads\")\\n  * Privacy Preferences\\n\\n(C) 2024 Cricbuzz.com, Times Internet Limited. All rights reserved | [The\\nTimes of India](http://timesofindia.indiatimes.com/) | [Navbharat\\nTimes](http://navbharattimes.indiatimes.com/)\\n\\nMove to top\\n\\n'"
            ],
            "application/vnd.google.colaboratory.intrinsic+json": {
              "type": "string"
            }
          },
          "metadata": {},
          "execution_count": 14
        }
      ]
    },
    {
      "cell_type": "code",
      "source": [
        "orig_nodes=node_parser.get_nodes_from_documents(documents)\n",
        "len(orig_nodes)"
      ],
      "metadata": {
        "colab": {
          "base_uri": "https://localhost:8080/"
        },
        "id": "tz3mjxqmwIaf",
        "outputId": "35693699-9aeb-486c-d568-5c7baeaf1169"
      },
      "execution_count": 19,
      "outputs": [
        {
          "output_type": "execute_result",
          "data": {
            "text/plain": [
              "355"
            ]
          },
          "metadata": {},
          "execution_count": 19
        }
      ]
    },
    {
      "cell_type": "code",
      "source": [
        "nodes=orig_nodes[20:22]"
      ],
      "metadata": {
        "id": "LgxnLZwbw3XG"
      },
      "execution_count": 26,
      "outputs": []
    },
    {
      "cell_type": "code",
      "source": [
        "nodes[1].get_content(metadata_mode=\"all\")"
      ],
      "metadata": {
        "colab": {
          "base_uri": "https://localhost:8080/",
          "height": 53
        },
        "id": "AiwaMe1uw9j_",
        "outputId": "ce2e1486-3964-4dd1-e7da-95a262f232cc"
      },
      "execution_count": 27,
      "outputs": [
        {
          "output_type": "execute_result",
          "data": {
            "text/plain": [
              "'\"Ranji Trophy 2023-24\") [All Series\\n»](/cricket-schedule/series)\\n\\n[Teams](/cricket-team)\\n\\n#### Test Teams\\n\\n[India](/cricket-team/india/2 \"India Cricket Team\")'"
            ],
            "application/vnd.google.colaboratory.intrinsic+json": {
              "type": "string"
            }
          },
          "metadata": {},
          "execution_count": 27
        }
      ]
    },
    {
      "cell_type": "code",
      "source": [
        "nodes[0].get_content(metadata_mode=\"all\")"
      ],
      "metadata": {
        "colab": {
          "base_uri": "https://localhost:8080/",
          "height": 35
        },
        "id": "NKnU5wOFxF7k",
        "outputId": "380e57cc-32ef-48ce-c10d-bb0f1b11e128"
      },
      "execution_count": 29,
      "outputs": [
        {
          "output_type": "execute_result",
          "data": {
            "text/plain": [
              "'\"Super Smash 2023-24\") [Ranji Trophy 2023-24](/cricket-\\nseries/6725/ranji-trophy-2023-24 \"Ranji Trophy 2023-24\") [All'"
            ],
            "application/vnd.google.colaboratory.intrinsic+json": {
              "type": "string"
            }
          },
          "metadata": {},
          "execution_count": 29
        }
      ]
    },
    {
      "cell_type": "markdown",
      "source": [
        "# Run Metadata extractors"
      ],
      "metadata": {
        "id": "o1KvxQHR3aDU"
      }
    },
    {
      "cell_type": "code",
      "source": [
        "nodes_1=summary_extractor(nodes)\n",
        "nodes_1=question_answer_extractor(nodes_1)"
      ],
      "metadata": {
        "colab": {
          "base_uri": "https://localhost:8080/"
        },
        "id": "PYsKpSbRxb_O",
        "outputId": "b83454db-ba6a-4432-f569-b259a5486719"
      },
      "execution_count": 30,
      "outputs": [
        {
          "output_type": "stream",
          "name": "stderr",
          "text": [
            "\n",
            "  0%|          | 0/2 [00:00<?, ?it/s]\u001b[A\n",
            " 50%|█████     | 1/2 [00:01<00:01,  1.86s/it]\u001b[A\n",
            "100%|██████████| 2/2 [00:21<00:00, 10.93s/it]\n",
            "\n",
            "  0%|          | 0/2 [00:00<?, ?it/s]\u001b[A\n",
            " 50%|█████     | 1/2 [00:21<00:21, 21.58s/it]\u001b[A\n",
            "100%|██████████| 2/2 [00:41<00:00, 20.78s/it]\n"
          ]
        }
      ]
    },
    {
      "cell_type": "markdown",
      "source": [
        "# Visualize some sample data"
      ],
      "metadata": {
        "id": "-IbleFkt3gEc"
      }
    },
    {
      "cell_type": "code",
      "source": [
        "nodes_1[1].get_content(metadata_mode=\"all\")"
      ],
      "metadata": {
        "colab": {
          "base_uri": "https://localhost:8080/",
          "height": 122
        },
        "id": "FMSUGdi8x7LU",
        "outputId": "46f09786-e16e-4d0c-853c-fc6f890ed58b"
      },
      "execution_count": 31,
      "outputs": [
        {
          "output_type": "execute_result",
          "data": {
            "text/plain": [
              "'[Excerpt from document]\\nprev_section_summary: The section is discussing two cricket tournaments, namely the Super Smash 2023-24 and the Ranji Trophy 2023-24. The key topics include these tournaments and their respective years. The key entities mentioned are the Super Smash and the Ranji Trophy.\\nsection_summary: The section is about the Ranji Trophy 2023-24 cricket tournament. It mentions the teams participating in the tournament, with a specific focus on the Test teams. The only Test team mentioned in the section is India.\\nquestions_this_excerpt_can_answer: 1. Which cricket tournament is the section discussing?\\n2. Which Test team is mentioned in the section about the Ranji Trophy 2023-24 cricket tournament?\\nExcerpt:\\n-----\\n\"Ranji Trophy 2023-24\") [All Series\\n»](/cricket-schedule/series)\\n\\n[Teams](/cricket-team)\\n\\n#### Test Teams\\n\\n[India](/cricket-team/india/2 \"India Cricket Team\")\\n-----'"
            ],
            "application/vnd.google.colaboratory.intrinsic+json": {
              "type": "string"
            }
          },
          "metadata": {},
          "execution_count": 31
        }
      ]
    },
    {
      "cell_type": "markdown",
      "source": [
        "# Setup Rag Query Engine"
      ],
      "metadata": {
        "id": "9fodQT1f3nOk"
      }
    },
    {
      "cell_type": "code",
      "source": [
        "from llama_index import VectorStoreIndex\n",
        "from llama_index.response.notebook_utils import (\n",
        "    display_source_node,\n",
        "    display_response,\n",
        ")"
      ],
      "metadata": {
        "id": "uYeEMFdkzSet"
      },
      "execution_count": 32,
      "outputs": []
    },
    {
      "cell_type": "code",
      "source": [
        "index=VectorStoreIndex(orig_nodes[:20] + nodes_1 + orig_nodes[22:])"
      ],
      "metadata": {
        "id": "vcGG2iwcz-P2"
      },
      "execution_count": 33,
      "outputs": []
    },
    {
      "cell_type": "code",
      "source": [
        "query_engine=index.as_query_engine()"
      ],
      "metadata": {
        "id": "APHbtgD-0XW1"
      },
      "execution_count": 34,
      "outputs": []
    },
    {
      "cell_type": "markdown",
      "source": [
        "# querying"
      ],
      "metadata": {
        "id": "LXXHIfQ-3uQV"
      }
    },
    {
      "cell_type": "code",
      "source": [
        "query_str = (\n",
        "    \"Which cricket tournament is the section discussing\"\n",
        "    \"Which Test team is mentioned in the section about the Ranji Trophy 2023-24 cricket tournament\"\n",
        ")\n",
        "response=query_engine.query(query_str)"
      ],
      "metadata": {
        "id": "0M96YHaZ1Jkz"
      },
      "execution_count": 43,
      "outputs": []
    },
    {
      "cell_type": "markdown",
      "source": [
        "# Response"
      ],
      "metadata": {
        "id": "a5bdje3V3ymc"
      }
    },
    {
      "cell_type": "code",
      "source": [
        "display_response(response,source_length=500)"
      ],
      "metadata": {
        "colab": {
          "base_uri": "https://localhost:8080/",
          "height": 64
        },
        "id": "j-xrAFow1fBi",
        "outputId": "29600c6f-3375-41ea-8c53-e478b2ec3fb9"
      },
      "execution_count": 44,
      "outputs": [
        {
          "output_type": "display_data",
          "data": {
            "text/plain": [
              "<IPython.core.display.Markdown object>"
            ],
            "text/markdown": "**`Final Response:`** The section is discussing the Ranji Trophy 2023-24 cricket tournament. The Test team mentioned in the section about the Ranji Trophy 2023-24 cricket tournament is India."
          },
          "metadata": {}
        }
      ]
    },
    {
      "cell_type": "code",
      "source": [],
      "metadata": {
        "id": "Hk7AqdcG2DRl"
      },
      "execution_count": null,
      "outputs": []
    }
  ]
}